{
  "nbformat": 4,
  "nbformat_minor": 0,
  "metadata": {
    "colab": {
      "provenance": [],
      "authorship_tag": "ABX9TyN2lnyNMTJby/m/yq1bXh7c",
      "include_colab_link": true
    },
    "kernelspec": {
      "name": "python3",
      "display_name": "Python 3"
    },
    "language_info": {
      "name": "python"
    }
  },
  "cells": [
    {
      "cell_type": "markdown",
      "metadata": {
        "id": "view-in-github",
        "colab_type": "text"
      },
      "source": [
        "<a href=\"https://colab.research.google.com/github/arpit2167407/Sales-Prediction/blob/main/Assignment_1.ipynb\" target=\"_parent\"><img src=\"https://colab.research.google.com/assets/colab-badge.svg\" alt=\"Open In Colab\"/></a>"
      ]
    },
    {
      "cell_type": "code",
      "execution_count": null,
      "metadata": {
        "id": "nm9SAvPtX7hW"
      },
      "outputs": [],
      "source": [
        "import requests\n",
        "from bs4 import BeautifulSoup\n"
      ]
    },
    {
      "cell_type": "code",
      "source": [
        "def get_filmography(actor):\n",
        "\n",
        "    formatted_actor = actor.lower().replace(' ', '_')\n",
        "\n",
        "    url = f\"https://www.imdb.com/name/{formatted_actor}/\"\n",
        "\n",
        "    response = requests.get(url)\n",
        "\n",
        "    if response.status_code == 200:\n",
        "        # Parse the HTML content\n",
        "        soup = BeautifulSoup(response.content, 'html.parser')\n",
        "\n",
        "        filmography = soup.find('div', {'id': 'filmography'})\n",
        "\n",
        "        if filmography:\n",
        "            films = filmography.find_all('div', {'class': 'filmo-row'})\n",
        "\n",
        "            filmography_list = []\n",
        "\n",
        "            for film in films:\n",
        "\n",
        "                title_element = film.find('b')\n",
        "                if title_element:\n",
        "                    title = title_element.text.strip()\n",
        "                    filmography_list.append(title)\n",
        "\n",
        "            filmography_list.reverse()\n",
        "\n",
        "            return filmography_list\n",
        "\n",
        "    return None\n"
      ],
      "metadata": {
        "id": "yoNVLqKYX-ai"
      },
      "execution_count": null,
      "outputs": []
    },
    {
      "cell_type": "code",
      "source": [
        "actor_name = input(\"Enter the actor's name: \")\n",
        "filmography = get_filmography(actor_name)\n",
        "\n",
        "if filmography:\n",
        "    print(f\"\\nOutput: Films done by {actor_name} in descending order:\")\n",
        "    for index, film in enumerate(filmography, start=1):\n",
        "        print(f\"{index}. {film}\")\n",
        "else:\n",
        "    print(\"Failed to retrieve the filmography.\")"
      ],
      "metadata": {
        "colab": {
          "base_uri": "https://localhost:8080/"
        },
        "id": "N_NkEFO3YHeg",
        "outputId": "30a77654-78b7-4a9c-93f6-96f0cf81b87c"
      },
      "execution_count": null,
      "outputs": [
        {
          "output_type": "stream",
          "name": "stdout",
          "text": [
            "Enter the actor's name: arpit\n",
            "Failed to retrieve the filmography.\n"
          ]
        }
      ]
    }
  ]
}